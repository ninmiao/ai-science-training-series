{
 "cells": [
  {
   "cell_type": "code",
   "execution_count": 1,
   "id": "662a93d1",
   "metadata": {},
   "outputs": [],
   "source": [
    "%load_ext autoreload\n",
    "%autoreload 2"
   ]
  },
  {
   "cell_type": "code",
   "execution_count": 2,
   "id": "e19878bb",
   "metadata": {},
   "outputs": [],
   "source": [
    "%matplotlib inline\n",
    "\n",
    "import tensorflow as tf\n",
    "\n",
    "import numpy\n",
    "import matplotlib.pyplot as plt"
   ]
  },
  {
   "cell_type": "code",
   "execution_count": 3,
   "id": "573fda93",
   "metadata": {},
   "outputs": [],
   "source": [
    "from sklearn.model_selection import train_test_split"
   ]
  },
  {
   "cell_type": "code",
   "execution_count": 4,
   "id": "da412dba",
   "metadata": {},
   "outputs": [
    {
     "name": "stdout",
     "output_type": "stream",
     "text": [
      "(40200, 28, 28)\n",
      "(40200, 784)\n",
      "\n",
      "MNIST data loaded: train: 40200 val: 19800 test: 10000\n",
      "X_train: (40200, 784)\n",
      "y_train: (40200,)\n"
     ]
    }
   ],
   "source": [
    "# repeating the data prep from the previous notebook\n",
    "(x_train, y_train), (x_test, y_test) = tf.keras.datasets.mnist.load_data()\n",
    "# EDIT: splitting training data into train and val because this is better practice than using test data to\n",
    "# choose models/hyperparameters\n",
    "x_train, x_val, y_train, y_val = train_test_split(x_train, y_train, test_size=0.33, random_state=42)\n",
    "\n",
    "x_train = x_train.astype(numpy.float32)\n",
    "# EDIT: adding pre-processing to validation data \n",
    "x_val  = x_val.astype(numpy.float32)\n",
    "x_test  = x_test.astype(numpy.float32)\n",
    "\n",
    "x_train /= 255.\n",
    "x_val  /= 255.\n",
    "x_test  /= 255.\n",
    "\n",
    "print(x_train.shape)\n",
    "x_train = x_train.reshape(x_train.shape[0], numpy.prod(x_train[0,:,:].shape))\n",
    "x_val = x_val.reshape(x_val.shape[0], numpy.prod(x_val[0,:,:].shape))\n",
    "x_test = x_test.reshape(x_test.shape[0], numpy.prod(x_test[0,:,:].shape))\n",
    "\n",
    "print(x_train.shape)\n",
    "y_train = y_train.astype(numpy.int32)\n",
    "y_val  = y_val.astype(numpy.int32)\n",
    "y_test  = y_test.astype(numpy.int32)\n",
    "\n",
    "print()\n",
    "print('MNIST data loaded: train:',len(x_train),'val:',len(x_val), 'test:',len(x_test))\n",
    "print('X_train:', x_train.shape)\n",
    "print('y_train:', y_train.shape)\n",
    "\n",
    "# one-hot encoding:\n",
    "nb_classes = 10\n",
    "y_train_onehot = tf.keras.utils.to_categorical(y_train, nb_classes)\n",
    "y_val_onehot = tf.keras.utils.to_categorical(y_val, nb_classes)\n",
    "y_test_onehot = tf.keras.utils.to_categorical(y_test, nb_classes)"
   ]
  },
  {
   "cell_type": "code",
   "execution_count": 5,
   "id": "302994b1",
   "metadata": {},
   "outputs": [],
   "source": [
    "# Here we import an implementation of a two-layer neural network \n",
    "# this code is based on pieces of the first assignment from Stanford's CSE231n course, \n",
    "# hosted at https://github.com/cs231n/cs231n.github.io with the MIT license\n",
    "from fc_net import TwoLayerNet"
   ]
  },
  {
   "cell_type": "code",
   "execution_count": 6,
   "id": "c43e3aa5",
   "metadata": {},
   "outputs": [],
   "source": [
    "# a simple implementation of stochastic gradient descent\n",
    "def sgd(model, gradients, learning_rate):\n",
    "    for p, w in model.params.items():\n",
    "        dw = gradients[p]\n",
    "        new_weights = w - learning_rate * dw\n",
    "        model.params[p] = new_weights"
   ]
  },
  {
   "cell_type": "code",
   "execution_count": 7,
   "id": "c8316228",
   "metadata": {},
   "outputs": [],
   "source": [
    "# one training step\n",
    "def learn(model, x_train, y_train_onehot, learning_rate):\n",
    "    loss, gradients = model.loss(x_train, y_train_onehot)\n",
    "    sgd(model, gradients, learning_rate)\n",
    "    return loss"
   ]
  },
  {
   "cell_type": "code",
   "execution_count": 8,
   "id": "3faadcdb",
   "metadata": {},
   "outputs": [],
   "source": [
    "def accuracy(model, x, true_values):\n",
    "    scores = model.loss(x)\n",
    "    predictions = numpy.argmax(scores, axis=1)\n",
    "    N = predictions.shape[0]\n",
    "    # EDIT: squeezing true_values from 2d to 1d speeds up this function\n",
    "    true_values_1d = numpy.squeeze(true_values)\n",
    "    acc = (true_values_1d == predictions).sum() / N\n",
    "    return acc"
   ]
  },
  {
   "cell_type": "code",
   "execution_count": 9,
   "id": "170952f0",
   "metadata": {},
   "outputs": [],
   "source": [
    "# EDIT: decided to track how long each epoch takes\n",
    "import time"
   ]
  },
  {
   "cell_type": "code",
   "execution_count": 10,
   "id": "49754891",
   "metadata": {},
   "outputs": [],
   "source": [
    "# Here's an example training loop using this two-layer model. Can you do better? \n",
    "\n",
    "# EDIT: also track validation data\n",
    "# EDIT: factoring this out into a function to make it easier to compare options\n",
    "def training(learning_rate, batch_size, num_epochs, hidden_dim, weight_scale, x_train, y_train, y_train_onehot, x_val, y_val, y_val_onehot):\n",
    "    num_features = x_train.shape[1] # this is the number of pixels\n",
    "    nb_classes = y_train_onehot.shape[1]\n",
    "    \n",
    "    # The weights are initialized from a normal distribution with standard deviation weight_scale\n",
    "    model = TwoLayerNet(input_dim=num_features, hidden_dim=hidden_dim, num_classes=nb_classes, weight_scale=weight_scale)\n",
    "    \n",
    "    num_examples_train = x_train.shape[0]\n",
    "    num_batches_train = int(num_examples_train / batch_size)\n",
    "    \n",
    "    losses = numpy.zeros((num_batches_train*num_epochs,2)) # 1st column for training data, 2nd for validation data\n",
    "    # EDIT: also track accuracy\n",
    "    accuracies = numpy.zeros((num_batches_train*num_epochs,2)) \n",
    "    \n",
    "    indices_train = numpy.arange(num_examples_train)\n",
    "    num_examples_val = x_val.shape[0]\n",
    "    indices_val = numpy.arange(num_examples_val)\n",
    "\n",
    "    i = 0\n",
    "    for epoch in range(0, num_epochs):\n",
    "        start_epoch = time.time()\n",
    "        # in each epoch, we loop over all of the training examples\n",
    "        for step in range(0, num_batches_train):\n",
    "            # grabbing the next training batch\n",
    "            offset_train = step * batch_size\n",
    "            batch_range_train = range(offset_train, offset_train+batch_size)\n",
    "            x_train_batch = x_train[batch_range_train, :]\n",
    "            # EDIT: keep around non-onehot labels as well for accuracy calculation\n",
    "            y_train_onehot_batch = y_train_onehot[batch_range_train,:]\n",
    "            y_train_batch = y_train[batch_range_train,numpy.newaxis]\n",
    "\n",
    "            # one approach: grab a random validation batch (random offset into number of validation examples)\n",
    "            offset_val = numpy.random.randint(low=0, high=num_examples_val-batch_size)\n",
    "            batch_range_val = range(offset_val, offset_val+batch_size)\n",
    "            x_val_batch = x_val[batch_range_val, :]\n",
    "            y_val_onehot_batch = y_val_onehot[batch_range_val,:]\n",
    "            y_val_batch = y_val[batch_range_val,numpy.newaxis]\n",
    "\n",
    "            # feed the next batch in to do one sgd step\n",
    "            loss_train = learn(model, x_train_batch, y_train_onehot_batch, learning_rate)\n",
    "\n",
    "            # check training & validation loss & accuracy\n",
    "            losses[i,0] = loss_train\n",
    "            \n",
    "            # could save time by commenting out the next three lines and only tracking at the epoch level\n",
    "            accuracies[i,0] = accuracy(model, x_train_batch, y_train_batch)\n",
    "            losses[i,1], _ = model.loss(x_val_batch, y_val_onehot_batch)\n",
    "            accuracies[i,1] = accuracy(model, x_val_batch, y_val_batch)\n",
    "            i += 1\n",
    "\n",
    "        # slower, so we're only doing this once per epoch: checking accuracy on all of the data at once\n",
    "        acc_train = accuracy(model, x_train, y_train)\n",
    "        acc_val = accuracy(model, x_val, y_val)\n",
    "        \n",
    "        # reshuffle the data so that we get a new set of batches\n",
    "        numpy.random.shuffle(indices_train)\n",
    "        x_train = x_train[indices_train,:]\n",
    "        y_train = y_train[indices_train] # keep this shuffled the same way for use in accuracy calculation\n",
    "        y_train_onehot = y_train_onehot[indices_train,:]\n",
    "\n",
    "        numpy.random.shuffle(indices_val)\n",
    "        x_val = x_val[indices_val,:]\n",
    "        y_val = y_val[indices_val] \n",
    "        y_val_onehot = y_val_onehot[indices_val,:]\n",
    "        end_epoch = time.time()\n",
    "        time_this_epoch = end_epoch - start_epoch\n",
    "        print(\"epoch %d took %.1f seconds, training loss %.5f (last batch), training accuracy %.3f, validation accuracy %.3f\" % (epoch, time_this_epoch, loss_train, acc_train, acc_val))\n",
    "    return losses, accuracies, model\n",
    "\n",
    "        "
   ]
  },
  {
   "cell_type": "code",
   "execution_count": 11,
   "id": "c0a91cf3",
   "metadata": {},
   "outputs": [
    {
     "name": "stdout",
     "output_type": "stream",
     "text": [
      "epoch 0 took 2.7 seconds, training loss 2.30223 (last batch), training accuracy 0.114, validation accuracy 0.110\n",
      "epoch 1 took 3.1 seconds, training loss 2.30105 (last batch), training accuracy 0.121, validation accuracy 0.117\n",
      "epoch 2 took 3.1 seconds, training loss 2.29996 (last batch), training accuracy 0.129, validation accuracy 0.126\n",
      "epoch 3 took 3.0 seconds, training loss 2.29884 (last batch), training accuracy 0.139, validation accuracy 0.136\n",
      "epoch 4 took 3.0 seconds, training loss 2.29788 (last batch), training accuracy 0.149, validation accuracy 0.145\n",
      "epoch 5 took 2.9 seconds, training loss 2.29664 (last batch), training accuracy 0.160, validation accuracy 0.155\n",
      "epoch 6 took 2.9 seconds, training loss 2.29572 (last batch), training accuracy 0.172, validation accuracy 0.167\n",
      "epoch 7 took 2.9 seconds, training loss 2.29457 (last batch), training accuracy 0.186, validation accuracy 0.181\n",
      "epoch 8 took 2.9 seconds, training loss 2.29360 (last batch), training accuracy 0.201, validation accuracy 0.197\n",
      "epoch 9 took 3.0 seconds, training loss 2.29248 (last batch), training accuracy 0.219, validation accuracy 0.216\n"
     ]
    },
    {
     "data": {
      "text/plain": [
       "[<matplotlib.lines.Line2D at 0x22708616080>]"
      ]
     },
     "execution_count": 11,
     "metadata": {},
     "output_type": "execute_result"
    },
    {
     "data": {
      "image/png": "[encoded data removed]",
      "text/plain": [
       "<Figure size 432x288 with 2 Axes>"
      ]
     },
     "metadata": {
      "needs_background": "light"
     },
     "output_type": "display_data"
    }
   ],
   "source": [
    "# these are the hyperparameters we had in class\n",
    "learning_rate = 0.01  \n",
    "batch_size = 10000\n",
    "num_epochs = 10\n",
    "hidden_dim = 300\n",
    "weight_scale = .01\n",
    "losses, accuracies, model = training(learning_rate, batch_size, num_epochs, hidden_dim, weight_scale, x_train, y_train, y_train_onehot, x_val, y_val, y_val_onehot)\n",
    "\n",
    "# EDIT: plot training & val, loss & accuracy\n",
    "plt.figure()\n",
    "plt.subplot(2,1,1)\n",
    "plt.plot(losses[:,0])\n",
    "plt.plot(losses[:,1])\n",
    "plt.legend([\"train\", \"val\"])\n",
    "\n",
    "plt.subplot(2,1,2)\n",
    "plt.plot(accuracies[:,0])\n",
    "plt.plot(accuracies[:,1])"
   ]
  },
  {
   "cell_type": "markdown",
   "id": "a2dd5728",
   "metadata": {},
   "source": [
    "# Homework: improve the accuracy of this model. "
   ]
  },
  {
   "cell_type": "markdown",
   "id": "faaf0515",
   "metadata": {},
   "source": [
    "Update this notebook so that the accuracy is improved. How high can you get it? You could change things directly in the notebook, such as increasing the number of epochs, changing the learning weight, changing the width of the hidden layer, etc. If you're more ambitious, you could also try changing the model definition itself by checking out the associated Python files. For example, you could add more layers to the network. The current notebook has a training accuracy of about 43%, but will vary with randomness."
   ]
  },
  {
   "cell_type": "code",
   "execution_count": null,
   "id": "5edc9053",
   "metadata": {},
   "outputs": [
    {
     "name": "stdout",
     "output_type": "stream",
     "text": [
      "0.10648164021161025\n",
      "epoch 0 took 1.6 seconds, training loss 0.94126 (last batch), training accuracy 0.734, validation accuracy 0.737\n",
      "epoch 1 took 1.6 seconds, training loss 0.57416 (last batch), training accuracy 0.825, validation accuracy 0.826\n",
      "epoch 2 took 1.6 seconds, training loss 0.46473 (last batch), training accuracy 0.857, validation accuracy 0.858\n",
      "epoch 3 took 1.6 seconds, training loss 0.57272 (last batch), training accuracy 0.872, validation accuracy 0.874\n",
      "epoch 4 took 1.6 seconds, training loss 0.33051 (last batch), training accuracy 0.881, validation accuracy 0.881\n",
      "epoch 5 took 1.7 seconds, training loss 0.41479 (last batch), training accuracy 0.888, validation accuracy 0.889\n",
      "epoch 6 took 1.7 seconds, training loss 0.40216 (last batch), training accuracy 0.892, validation accuracy 0.894\n",
      "epoch 7 took 1.6 seconds, training loss 0.30040 (last batch), training accuracy 0.896, validation accuracy 0.898\n",
      "epoch 8 took 1.6 seconds, training loss 0.42115 (last batch), training accuracy 0.900, validation accuracy 0.901\n",
      "epoch 9 took 1.5 seconds, training loss 0.38095 (last batch), training accuracy 0.903, validation accuracy 0.906\n",
      "epoch 10 took 1.6 seconds, training loss 0.43687 (last batch), training accuracy 0.906, validation accuracy 0.907\n",
      "epoch 11 took 1.6 seconds, training loss 0.18358 (last batch), training accuracy 0.908, validation accuracy 0.911\n",
      "epoch 12 took 1.6 seconds, training loss 0.20956 (last batch), training accuracy 0.911, validation accuracy 0.912\n",
      "epoch 13 took 1.5 seconds, training loss 0.37057 (last batch), training accuracy 0.912, validation accuracy 0.913\n",
      "epoch 14 took 1.6 seconds, training loss 0.19196 (last batch), training accuracy 0.914, validation accuracy 0.916\n",
      "epoch 15 took 1.6 seconds, training loss 0.28632 (last batch), training accuracy 0.916, validation accuracy 0.917\n",
      "epoch 16 took 1.6 seconds, training loss 0.19914 (last batch), training accuracy 0.918, validation accuracy 0.918\n",
      "epoch 17 took 1.6 seconds, training loss 0.22997 (last batch), training accuracy 0.920, validation accuracy 0.920\n",
      "epoch 18 took 1.6 seconds, training loss 0.39961 (last batch), training accuracy 0.920, validation accuracy 0.922\n",
      "epoch 19 took 1.6 seconds, training loss 0.21505 (last batch), training accuracy 0.922, validation accuracy 0.923\n",
      "epoch 20 took 1.6 seconds, training loss 0.35596 (last batch), training accuracy 0.924, validation accuracy 0.924\n",
      "epoch 21 took 1.6 seconds, training loss 0.32274 (last batch), training accuracy 0.926, validation accuracy 0.924\n",
      "epoch 22 took 1.7 seconds, training loss 0.29466 (last batch), training accuracy 0.927, validation accuracy 0.926\n",
      "epoch 23 took 1.6 seconds, training loss 0.23147 (last batch), training accuracy 0.927, validation accuracy 0.926\n",
      "epoch 24 took 1.6 seconds, training loss 0.24086 (last batch), training accuracy 0.929, validation accuracy 0.928\n",
      "epoch 25 took 1.6 seconds, training loss 0.26810 (last batch), training accuracy 0.930, validation accuracy 0.929\n",
      "epoch 26 took 1.7 seconds, training loss 0.29444 (last batch), training accuracy 0.931, validation accuracy 0.929\n",
      "epoch 27 took 1.6 seconds, training loss 0.31644 (last batch), training accuracy 0.931, validation accuracy 0.930\n",
      "epoch 28 took 1.6 seconds, training loss 0.15019 (last batch), training accuracy 0.933, validation accuracy 0.932\n",
      "epoch 29 took 1.6 seconds, training loss 0.26101 (last batch), training accuracy 0.933, validation accuracy 0.933\n",
      "epoch 30 took 1.6 seconds, training loss 0.23287 (last batch), training accuracy 0.934, validation accuracy 0.933\n",
      "epoch 31 took 1.6 seconds, training loss 0.23769 (last batch), training accuracy 0.935, validation accuracy 0.934\n",
      "epoch 32 took 1.6 seconds, training loss 0.18743 (last batch), training accuracy 0.937, validation accuracy 0.935\n",
      "epoch 33 took 1.6 seconds, training loss 0.25936 (last batch), training accuracy 0.937, validation accuracy 0.935\n",
      "epoch 34 took 1.6 seconds, training loss 0.33462 (last batch), training accuracy 0.938, validation accuracy 0.936\n",
      "epoch 35 took 1.6 seconds, training loss 0.19812 (last batch), training accuracy 0.938, validation accuracy 0.937\n",
      "epoch 36 took 1.7 seconds, training loss 0.14785 (last batch), training accuracy 0.939, validation accuracy 0.938\n",
      "epoch 37 took 1.6 seconds, training loss 0.25190 (last batch), training accuracy 0.940, validation accuracy 0.938\n",
      "epoch 38 took 1.6 seconds, training loss 0.20143 (last batch), training accuracy 0.941, validation accuracy 0.939\n",
      "epoch 39 took 1.6 seconds, training loss 0.08394 (last batch), training accuracy 0.941, validation accuracy 0.940\n",
      "epoch 40 took 1.7 seconds, training loss 0.42741 (last batch), training accuracy 0.943, validation accuracy 0.940\n"
     ]
    }
   ],
   "source": [
    "# Here's an example network that is much more accurate. I experimented with each hyperparameter one at a time\n",
    "# The training took about 11 seconds per epoch on my laptop, and the final validation accuracy was 94%\n",
    "# It's much slower on ThetaGPU's single-gpu queue, since it doesn't take advantage of a GPU and is stuck using\n",
    "# a portion of one of the node's CPUs. \n",
    "# (With some effort, you can convert everything to CuPy instead of NumPy and then it runs on the GPU)\n",
    "# If you don't have your own computer to run on, you might want to use Google Colab. \n",
    "learning_rate = 0.01  \n",
    "batch_size = 100\n",
    "num_epochs = 100\n",
    "hidden_dim = 64\n",
    "# Try Xavier initialization, although need to use same scaling for both layers, so averaging\n",
    "# https://keras.io/api/layers/initializers/\n",
    "size_input = x_train.shape[1]\n",
    "weight_scale1 = numpy.sqrt(2./(size_input+hidden_dim))\n",
    "weight_scale2 = numpy.sqrt(2./(hidden_dim+nb_classes))\n",
    "weight_scale = (weight_scale1 + weight_scale2)/2\n",
    "print(weight_scale)\n",
    "losses, accuracies, model = training(learning_rate, batch_size, num_epochs, hidden_dim, weight_scale, x_train, y_train, y_train_onehot, x_val, y_val, y_val_onehot)\n",
    "\n",
    "plt.figure()\n",
    "plt.subplot(2,1,1)\n",
    "plt.plot(losses[:,0])\n",
    "plt.plot(losses[:,1])\n",
    "plt.legend([\"train\", \"val\"])\n",
    "\n",
    "plt.subplot(2,1,2)\n",
    "plt.plot(accuracies[:,0])\n",
    "plt.plot(accuracies[:,1])"
   ]
  },
  {
   "cell_type": "code",
   "execution_count": null,
   "id": "dacaeba2",
   "metadata": {},
   "outputs": [],
   "source": []
  }
 ],
 "metadata": {
  "kernelspec": {
   "display_name": "Python 3",
   "language": "python",
   "name": "python3"
  },
  "language_info": {
   "codemirror_mode": {
    "name": "ipython",
    "version": 3
   },
   "file_extension": ".py",
   "mimetype": "text/x-python",
   "name": "python",
   "nbconvert_exporter": "python",
   "pygments_lexer": "ipython3",
   "version": "3.6.8"
  }
 },
 "nbformat": 4,
 "nbformat_minor": 5
}
